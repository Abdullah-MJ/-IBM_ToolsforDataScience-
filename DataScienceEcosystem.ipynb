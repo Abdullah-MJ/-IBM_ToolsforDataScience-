{
 "cells": [
  {
   "cell_type": "markdown",
   "id": "197d96a4-35f6-4909-b7ff-b5c5607c48b6",
   "metadata": {},
   "source": [
    "# Data Science Tools and Ecosystem"
   ]
  },
  {
   "cell_type": "markdown",
   "id": "54c9670d-cedc-4ed6-8f59-6ad211f0b7e4",
   "metadata": {
    "tags": []
   },
   "source": [
    "In this notebook, Data Science Tools and Ecosystem are summarized."
   ]
  },
  {
   "cell_type": "markdown",
   "id": "b46c09c7",
   "metadata": {},
   "source": [
    "**Objectives:** \n",
    "\n",
    "- List popular languages for Data Science.\n",
    "- Identify commonly used libraries.\n",
    "- Recognize tools used for development environments.\n",
    "- Demonstrate simple arithmetic expressions in Python."
   ]
  },
  {
   "cell_type": "markdown",
   "id": "d9b95a3d-9100-428f-8c42-eb7b4e32ea4d",
   "metadata": {
    "tags": []
   },
   "source": [
    "Some of the popular languages that Data Scientists use are:\n",
    "1. Python\n",
    "2. R\n",
    "3. SQL"
   ]
  },
  {
   "cell_type": "markdown",
   "id": "a180fa5d-6023-4a5e-9a97-d788fe9d8b01",
   "metadata": {},
   "source": [
    "Some of the popular languages that Data Scientists use are:\n",
    "1. Pandas\n",
    "2. TensorFlow\n",
    "3. scikit-learn"
   ]
  },
  {
   "cell_type": "markdown",
   "id": "2411d945-e1f6-429e-b4f4-8b828f8ba410",
   "metadata": {},
   "source": [
    "|Data Science Tools|\n",
    "|-|\n",
    "|Jupyter Notebooks|\n",
    "|Colab|\n",
    "|Anaconda|"
   ]
  },
  {
   "cell_type": "markdown",
   "id": "b7580d77-98ab-4db2-b1b7-0362527eb797",
   "metadata": {},
   "source": [
    "### Below are a few examples of evaluating arithmetic expressions in Python."
   ]
  },
  {
   "cell_type": "code",
   "execution_count": 1,
   "id": "dfe405b1",
   "metadata": {},
   "outputs": [
    {
     "name": "stdout",
     "output_type": "stream",
     "text": [
      "17\n"
     ]
    }
   ],
   "source": [
    "# This a simple arithmetic expression to mutiply then add integers.\n",
    "print((3*4)+5) "
   ]
  },
  {
   "cell_type": "code",
   "execution_count": 2,
   "id": "efeccf4d",
   "metadata": {},
   "outputs": [
    {
     "name": "stdout",
     "output_type": "stream",
     "text": [
      "3.3333333333333335\n"
     ]
    }
   ],
   "source": [
    "# This will convert 200 minutes to hours by diving by 60.\n",
    "print(200/60)"
   ]
  },
  {
   "cell_type": "markdown",
   "id": "953f0d5b",
   "metadata": {},
   "source": [
    "## Author \n",
    "Abdullah M.J "
   ]
  }
 ],
 "metadata": {
  "kernelspec": {
   "display_name": "base",
   "language": "python",
   "name": "python3"
  },
  "language_info": {
   "codemirror_mode": {
    "name": "ipython",
    "version": 3
   },
   "file_extension": ".py",
   "mimetype": "text/x-python",
   "name": "python",
   "nbconvert_exporter": "python",
   "pygments_lexer": "ipython3",
   "version": "3.11.4"
  }
 },
 "nbformat": 4,
 "nbformat_minor": 5
}
